{
 "cells": [
  {
   "cell_type": "code",
   "execution_count": 2,
   "metadata": {},
   "outputs": [
    {
     "name": "stdout",
     "output_type": "stream",
     "text": [
      "Collecting emoji\n",
      "  Using cached emoji-1.7.0-py3-none-any.whl\n",
      "Installing collected packages: emoji\n",
      "Successfully installed emoji-1.7.0\n"
     ]
    }
   ],
   "source": [
    "! pip install emoji"
   ]
  },
  {
   "cell_type": "code",
   "execution_count": 1,
   "metadata": {},
   "outputs": [],
   "source": [
    "import emoji"
   ]
  },
  {
   "cell_type": "code",
   "execution_count": 2,
   "metadata": {},
   "outputs": [],
   "source": [
    "emoji_dictionary = {\"0\": \"\\u2764\\uFE0F\",\n",
    "                    \"1\": \":baseball:\",\n",
    "                    \"2\": \":grinning_face_with_big_eyes:\",\n",
    "                    \"3\": \":disappointed_face:\",\n",
    "                    \"4\": \":fork_and_knife:\",\n",
    "                    \"5\": \":hundred_points:\",\n",
    "                    \"6\": \":fire:\",\n",
    "                    \"7\": \":face_blowing_a_kiss:\",\n",
    "                    \"8\": \":chestnut:\",\n",
    "                    \"9\": \":flexed_biceps:\"\n",
    "                   }"
   ]
  },
  {
   "cell_type": "code",
   "execution_count": 3,
   "metadata": {},
   "outputs": [
    {
     "name": "stdout",
     "output_type": "stream",
     "text": [
      "❤️\n",
      "⚾\n",
      "😃\n",
      "😞\n",
      "🍴\n",
      "💯\n",
      "🔥\n",
      "😘\n",
      "🌰\n",
      "💪\n"
     ]
    }
   ],
   "source": [
    "for e in emoji_dictionary.values():\n",
    "    print(emoji.emojize(e))         #emoji.emojize used to print the emojis"
   ]
  },
  {
   "cell_type": "code",
   "execution_count": 4,
   "metadata": {},
   "outputs": [],
   "source": [
    "##processing a custom dataset"
   ]
  },
  {
   "cell_type": "code",
   "execution_count": 5,
   "metadata": {},
   "outputs": [],
   "source": [
    "import pandas as pd\n",
    "import numpy as np"
   ]
  },
  {
   "cell_type": "code",
   "execution_count": 6,
   "metadata": {},
   "outputs": [],
   "source": [
    "train = pd.read_csv('train_emoji.csv',header=None)\n",
    "test = pd.read_csv('test_emoji.csv',header=None)"
   ]
  },
  {
   "cell_type": "code",
   "execution_count": 7,
   "metadata": {},
   "outputs": [
    {
     "data": {
      "text/html": [
       "<div>\n",
       "<style scoped>\n",
       "    .dataframe tbody tr th:only-of-type {\n",
       "        vertical-align: middle;\n",
       "    }\n",
       "\n",
       "    .dataframe tbody tr th {\n",
       "        vertical-align: top;\n",
       "    }\n",
       "\n",
       "    .dataframe thead th {\n",
       "        text-align: right;\n",
       "    }\n",
       "</style>\n",
       "<table border=\"1\" class=\"dataframe\">\n",
       "  <thead>\n",
       "    <tr style=\"text-align: right;\">\n",
       "      <th></th>\n",
       "      <th>0</th>\n",
       "      <th>1</th>\n",
       "      <th>2</th>\n",
       "      <th>3</th>\n",
       "    </tr>\n",
       "  </thead>\n",
       "  <tbody>\n",
       "    <tr>\n",
       "      <th>0</th>\n",
       "      <td>never talk to me again</td>\n",
       "      <td>3</td>\n",
       "      <td>NaN</td>\n",
       "      <td>NaN</td>\n",
       "    </tr>\n",
       "    <tr>\n",
       "      <th>1</th>\n",
       "      <td>I am proud of your achievements</td>\n",
       "      <td>2</td>\n",
       "      <td>NaN</td>\n",
       "      <td>NaN</td>\n",
       "    </tr>\n",
       "    <tr>\n",
       "      <th>2</th>\n",
       "      <td>It is the worst day in my life</td>\n",
       "      <td>3</td>\n",
       "      <td>NaN</td>\n",
       "      <td>NaN</td>\n",
       "    </tr>\n",
       "    <tr>\n",
       "      <th>3</th>\n",
       "      <td>Miss you so much</td>\n",
       "      <td>0</td>\n",
       "      <td>NaN</td>\n",
       "      <td>[0]</td>\n",
       "    </tr>\n",
       "    <tr>\n",
       "      <th>4</th>\n",
       "      <td>food is life</td>\n",
       "      <td>4</td>\n",
       "      <td>NaN</td>\n",
       "      <td>NaN</td>\n",
       "    </tr>\n",
       "  </tbody>\n",
       "</table>\n",
       "</div>"
      ],
      "text/plain": [
       "                                 0  1   2     3\n",
       "0           never talk to me again  3 NaN   NaN\n",
       "1  I am proud of your achievements  2 NaN   NaN\n",
       "2   It is the worst day in my life  3 NaN   NaN\n",
       "3                 Miss you so much  0 NaN   [0]\n",
       "4                     food is life  4 NaN   NaN"
      ]
     },
     "execution_count": 7,
     "metadata": {},
     "output_type": "execute_result"
    }
   ],
   "source": [
    "train.head()"
   ]
  },
  {
   "cell_type": "code",
   "execution_count": 8,
   "metadata": {},
   "outputs": [],
   "source": [
    "#Printing sentences with emojis"
   ]
  },
  {
   "cell_type": "code",
   "execution_count": 9,
   "metadata": {},
   "outputs": [
    {
     "name": "stdout",
     "output_type": "stream",
     "text": [
      "(132, 4)\n"
     ]
    }
   ],
   "source": [
    "data = train.values\n",
    "print(data.shape)"
   ]
  },
  {
   "cell_type": "code",
   "execution_count": 10,
   "metadata": {},
   "outputs": [],
   "source": [
    "X_train = train[0]\n",
    "Y_train = train[1]\n",
    "\n",
    "X_test = test[0]\n",
    "Y_test = test[1]"
   ]
  },
  {
   "cell_type": "code",
   "execution_count": null,
   "metadata": {},
   "outputs": [],
   "source": []
  },
  {
   "cell_type": "code",
   "execution_count": 11,
   "metadata": {},
   "outputs": [
    {
     "name": "stdout",
     "output_type": "stream",
     "text": [
      "never talk to me again 😞\n",
      "I am proud of your achievements 😃\n",
      "It is the worst day in my life 😞\n",
      "Miss you so much ❤️\n",
      "food is life 🍴\n"
     ]
    }
   ],
   "source": [
    "for i in range(5):\n",
    "    print(X_train[i],emoji.emojize(emoji_dictionary[str(Y_train[i])]))"
   ]
  },
  {
   "cell_type": "code",
   "execution_count": 12,
   "metadata": {},
   "outputs": [],
   "source": [
    "#converting sentences into its embeddings"
   ]
  },
  {
   "cell_type": "code",
   "execution_count": 13,
   "metadata": {},
   "outputs": [],
   "source": [
    "f = open('glove.6B.50d.txt', encoding = 'utf-8')"
   ]
  },
  {
   "cell_type": "code",
   "execution_count": 14,
   "metadata": {},
   "outputs": [],
   "source": [
    "#in glove vector file, there is a 50 dimensional number vector for each word which gives how a word should be\n",
    "# represented in numeric form  \n",
    "embeddings_index = {}\n",
    "for line in f:\n",
    "    values = line.split()\n",
    "    word = values[0]\n",
    "    coefs = np.asarray(values[1:],dtype='float')\n",
    "    #print(word,coefs)\n",
    "    embeddings_index[word] = coefs #converting this into a dictionary - vector lookup for each word\n",
    "f.close()    \n",
    "    \n",
    "    "
   ]
  },
  {
   "cell_type": "code",
   "execution_count": 15,
   "metadata": {},
   "outputs": [
    {
     "name": "stdout",
     "output_type": "stream",
     "text": [
      "50\n"
     ]
    }
   ],
   "source": [
    "emb_dim = embeddings_index[\"eat\"].shape[0]\n",
    "print(emb_dim)  # for using glove vectors, it's output is of fixed length of 50 dimension"
   ]
  },
  {
   "cell_type": "code",
   "execution_count": 16,
   "metadata": {},
   "outputs": [],
   "source": [
    "#step 4 converting sentences into vectors(Embedding layer output)"
   ]
  },
  {
   "cell_type": "code",
   "execution_count": 17,
   "metadata": {},
   "outputs": [],
   "source": [
    "def embedding_output(X):\n",
    "    maxlen = 10 #for each sentence in the input, it's max length is already defined\n",
    "    embedding_out = np.zeros((X.shape[0],maxlen,emb_dim)) #X.shape[0] gives us the batch size, maxlen is the maximum length of\n",
    "    ##each of the sentences in the batch and emb_dim are the output dimension of each word from embedding layer\n",
    "    for ix in range(X.shape[0]):\n",
    "        X[ix] = X[ix].split() #we are splitting each sentences to its words to iterate over it \n",
    "        \n",
    "        for ij in range(len(X[ix])):\n",
    "            #going to every word in the current ix sentence\n",
    "            try:\n",
    "                embedding_out[ix][ij] = embeddings_index[X[ix][ij].lower()] #output of the sentence when the word is made lowercase\n",
    "            except:\n",
    "                embedding_out[ix][ij] = np.zeros((50,))\n",
    "    return embedding_out                \n",
    "    \n",
    "\n"
   ]
  },
  {
   "cell_type": "code",
   "execution_count": 18,
   "metadata": {},
   "outputs": [
    {
     "name": "stderr",
     "output_type": "stream",
     "text": [
      "C:\\Users\\Apoorv singh negi\\AppData\\Local\\Temp\\ipykernel_15652\\1676287932.py:6: SettingWithCopyWarning: \n",
      "A value is trying to be set on a copy of a slice from a DataFrame\n",
      "\n",
      "See the caveats in the documentation: https://pandas.pydata.org/pandas-docs/stable/user_guide/indexing.html#returning-a-view-versus-a-copy\n",
      "  X[ix] = X[ix].split() #we are splitting each sentences to its words to iterate over it\n"
     ]
    },
    {
     "name": "stdout",
     "output_type": "stream",
     "text": [
      "['never', 'talk', 'to', 'me', 'again']\n",
      "5\n"
     ]
    }
   ],
   "source": [
    "embeddings_matrix_train = embedding_output(X_train)\n",
    "embeddings_matrix_test = embedding_output(X_test)\n",
    "print(X_train[0])\n",
    "print(len(X_train[0]))"
   ]
  },
  {
   "cell_type": "code",
   "execution_count": 19,
   "metadata": {},
   "outputs": [
    {
     "name": "stdout",
     "output_type": "stream",
     "text": [
      "(56, 10, 50)\n"
     ]
    }
   ],
   "source": [
    "print(embeddings_matrix_test.shape)#(no of sentences, max length of each sentence(i.e. 10 words in each sentence), output dimension of each word)"
   ]
  },
  {
   "cell_type": "code",
   "execution_count": 20,
   "metadata": {},
   "outputs": [
    {
     "name": "stdout",
     "output_type": "stream",
     "text": [
      "(132, 10, 50)\n"
     ]
    }
   ],
   "source": [
    "print(embeddings_matrix_train.shape) #(no of sentences, max length of each sentence(i.e. 10 words in each sentence), output dimension of each word)"
   ]
  },
  {
   "cell_type": "code",
   "execution_count": 21,
   "metadata": {},
   "outputs": [
    {
     "name": "stdout",
     "output_type": "stream",
     "text": [
      "(132, 5)\n",
      "[0. 0. 0. 1. 0.]\n"
     ]
    }
   ],
   "source": [
    "#converting y train to one hot vectors\n",
    "from keras.utils import to_categorical\n",
    "Y_train = to_categorical(Y_train, num_classes=5)\n",
    "Y_test = to_categorical(Y_test, num_classes=5)\n",
    "print(Y_train.shape)\n",
    "print(Y_train[0])\n"
   ]
  },
  {
   "cell_type": "code",
   "execution_count": 22,
   "metadata": {},
   "outputs": [],
   "source": [
    "#Defining RNN/LSTM model"
   ]
  },
  {
   "cell_type": "code",
   "execution_count": 23,
   "metadata": {},
   "outputs": [],
   "source": [
    "from keras.models import Sequential\n",
    "from keras.layers import *"
   ]
  },
  {
   "cell_type": "code",
   "execution_count": 24,
   "metadata": {},
   "outputs": [
    {
     "name": "stdout",
     "output_type": "stream",
     "text": [
      "Model: \"sequential\"\n",
      "_________________________________________________________________\n",
      " Layer (type)                Output Shape              Param #   \n",
      "=================================================================\n",
      " lstm (LSTM)                 (None, 10, 64)            29440     \n",
      "                                                                 \n",
      " dropout (Dropout)           (None, 10, 64)            0         \n",
      "                                                                 \n",
      " lstm_1 (LSTM)               (None, 64)                33024     \n",
      "                                                                 \n",
      " dropout_1 (Dropout)         (None, 64)                0         \n",
      "                                                                 \n",
      " dense (Dense)               (None, 5)                 325       \n",
      "                                                                 \n",
      " activation (Activation)     (None, 5)                 0         \n",
      "                                                                 \n",
      "=================================================================\n",
      "Total params: 62,789\n",
      "Trainable params: 62,789\n",
      "Non-trainable params: 0\n",
      "_________________________________________________________________\n"
     ]
    }
   ],
   "source": [
    "model = Sequential() #for sequential model\n",
    "model.add(LSTM(64,input_shape = (10,50), return_sequences= True)) #10 words in each input sentence with 50 dimensions, hidden layer dimension=64 which is also\n",
    "                                          #output dimension, return_sequences = true, this will give data to the next LSTM layer\n",
    "model.add(Dropout(0.5))\n",
    "model.add(LSTM(64,return_sequences = False))\n",
    "model.add(Dropout(0.5))\n",
    "model.add(Dense(5)) #dense layer for final classification with 5 emjoi output\n",
    "model.add(Activation('softmax'))#softmax classifier is used as we have multiple classes so for that we use it as it will give us probabilities\n",
    "#multiple classification problem hence, we use that type of model\n",
    "model.compile(loss = 'categorical_crossentropy', optimizer='adam', metrics=['accuracy'])\n",
    "model.summary()"
   ]
  },
  {
   "cell_type": "code",
   "execution_count": 25,
   "metadata": {},
   "outputs": [
    {
     "name": "stdout",
     "output_type": "stream",
     "text": [
      "Epoch 1/100\n",
      "2/2 [==============================] - 5s 910ms/step - loss: 1.5963 - accuracy: 0.2286 - val_loss: 1.5957 - val_accuracy: 0.1852\n",
      "Epoch 2/100\n",
      "2/2 [==============================] - 0s 44ms/step - loss: 1.5658 - accuracy: 0.3048 - val_loss: 1.6032 - val_accuracy: 0.1481\n",
      "Epoch 3/100\n",
      "2/2 [==============================] - 0s 38ms/step - loss: 1.5226 - accuracy: 0.3333 - val_loss: 1.6146 - val_accuracy: 0.2222\n",
      "Epoch 4/100\n",
      "2/2 [==============================] - 0s 39ms/step - loss: 1.5031 - accuracy: 0.3810 - val_loss: 1.6238 - val_accuracy: 0.2593\n",
      "Epoch 5/100\n",
      "2/2 [==============================] - 0s 36ms/step - loss: 1.4769 - accuracy: 0.3905 - val_loss: 1.6330 - val_accuracy: 0.2963\n",
      "Epoch 6/100\n",
      "2/2 [==============================] - 0s 33ms/step - loss: 1.4486 - accuracy: 0.3238 - val_loss: 1.6415 - val_accuracy: 0.2593\n",
      "Epoch 7/100\n",
      "2/2 [==============================] - 0s 36ms/step - loss: 1.4326 - accuracy: 0.3714 - val_loss: 1.6477 - val_accuracy: 0.2593\n",
      "Epoch 8/100\n",
      "2/2 [==============================] - 0s 36ms/step - loss: 1.4100 - accuracy: 0.4000 - val_loss: 1.6441 - val_accuracy: 0.2593\n",
      "Epoch 9/100\n",
      "2/2 [==============================] - 0s 36ms/step - loss: 1.3755 - accuracy: 0.4381 - val_loss: 1.6217 - val_accuracy: 0.2593\n",
      "Epoch 10/100\n",
      "2/2 [==============================] - 0s 36ms/step - loss: 1.3342 - accuracy: 0.4667 - val_loss: 1.5931 - val_accuracy: 0.2222\n",
      "Epoch 11/100\n",
      "2/2 [==============================] - 0s 37ms/step - loss: 1.3125 - accuracy: 0.4476 - val_loss: 1.5604 - val_accuracy: 0.1852\n",
      "Epoch 12/100\n",
      "2/2 [==============================] - 0s 35ms/step - loss: 1.2829 - accuracy: 0.5143 - val_loss: 1.5103 - val_accuracy: 0.1852\n",
      "Epoch 13/100\n",
      "2/2 [==============================] - 0s 37ms/step - loss: 1.2296 - accuracy: 0.5238 - val_loss: 1.4489 - val_accuracy: 0.2963\n",
      "Epoch 14/100\n",
      "2/2 [==============================] - 0s 38ms/step - loss: 1.1479 - accuracy: 0.5714 - val_loss: 1.3900 - val_accuracy: 0.3704\n",
      "Epoch 15/100\n",
      "2/2 [==============================] - 0s 35ms/step - loss: 1.1214 - accuracy: 0.6000 - val_loss: 1.3363 - val_accuracy: 0.3704\n",
      "Epoch 16/100\n",
      "2/2 [==============================] - 0s 37ms/step - loss: 1.0561 - accuracy: 0.6667 - val_loss: 1.2998 - val_accuracy: 0.4074\n",
      "Epoch 17/100\n",
      "2/2 [==============================] - 0s 35ms/step - loss: 1.0305 - accuracy: 0.6286 - val_loss: 1.2889 - val_accuracy: 0.5185\n",
      "Epoch 18/100\n",
      "2/2 [==============================] - 0s 34ms/step - loss: 0.9513 - accuracy: 0.7143 - val_loss: 1.2678 - val_accuracy: 0.5556\n",
      "Epoch 19/100\n",
      "2/2 [==============================] - 0s 38ms/step - loss: 0.9158 - accuracy: 0.7048 - val_loss: 1.2192 - val_accuracy: 0.5185\n",
      "Epoch 20/100\n",
      "2/2 [==============================] - 0s 38ms/step - loss: 0.8647 - accuracy: 0.6857 - val_loss: 1.1808 - val_accuracy: 0.5926\n",
      "Epoch 21/100\n",
      "2/2 [==============================] - 0s 39ms/step - loss: 0.7812 - accuracy: 0.7619 - val_loss: 1.1921 - val_accuracy: 0.5185\n",
      "Epoch 22/100\n",
      "2/2 [==============================] - 0s 40ms/step - loss: 0.7274 - accuracy: 0.7524 - val_loss: 1.1947 - val_accuracy: 0.5185\n",
      "Epoch 23/100\n",
      "2/2 [==============================] - 0s 35ms/step - loss: 0.6367 - accuracy: 0.7524 - val_loss: 1.1287 - val_accuracy: 0.5926\n",
      "Epoch 24/100\n",
      "2/2 [==============================] - 0s 34ms/step - loss: 0.6615 - accuracy: 0.7714 - val_loss: 1.0625 - val_accuracy: 0.5926\n",
      "Epoch 25/100\n",
      "2/2 [==============================] - 0s 35ms/step - loss: 0.6198 - accuracy: 0.7619 - val_loss: 1.0739 - val_accuracy: 0.5556\n",
      "Epoch 26/100\n",
      "2/2 [==============================] - 0s 33ms/step - loss: 0.5200 - accuracy: 0.8476 - val_loss: 1.1747 - val_accuracy: 0.5185\n",
      "Epoch 27/100\n",
      "2/2 [==============================] - 0s 33ms/step - loss: 0.5631 - accuracy: 0.8095 - val_loss: 1.0676 - val_accuracy: 0.6296\n",
      "Epoch 28/100\n",
      "2/2 [==============================] - 0s 37ms/step - loss: 0.4761 - accuracy: 0.8381 - val_loss: 1.0746 - val_accuracy: 0.5926\n",
      "Epoch 29/100\n",
      "2/2 [==============================] - 0s 40ms/step - loss: 0.4646 - accuracy: 0.8667 - val_loss: 1.0917 - val_accuracy: 0.6296\n",
      "Epoch 30/100\n",
      "2/2 [==============================] - 0s 40ms/step - loss: 0.4054 - accuracy: 0.8667 - val_loss: 1.1835 - val_accuracy: 0.5926\n",
      "Epoch 31/100\n",
      "2/2 [==============================] - 0s 40ms/step - loss: 0.3902 - accuracy: 0.8667 - val_loss: 1.1333 - val_accuracy: 0.5556\n",
      "Epoch 32/100\n",
      "2/2 [==============================] - 0s 35ms/step - loss: 0.3099 - accuracy: 0.9048 - val_loss: 1.0756 - val_accuracy: 0.6667\n",
      "Epoch 33/100\n",
      "2/2 [==============================] - 0s 36ms/step - loss: 0.3564 - accuracy: 0.8952 - val_loss: 1.1098 - val_accuracy: 0.6296\n",
      "Epoch 34/100\n",
      "2/2 [==============================] - 0s 34ms/step - loss: 0.3032 - accuracy: 0.9143 - val_loss: 1.1660 - val_accuracy: 0.5926\n",
      "Epoch 35/100\n",
      "2/2 [==============================] - 0s 35ms/step - loss: 0.2370 - accuracy: 0.9429 - val_loss: 1.2633 - val_accuracy: 0.6296\n",
      "Epoch 36/100\n",
      "2/2 [==============================] - 0s 36ms/step - loss: 0.2452 - accuracy: 0.9238 - val_loss: 1.3081 - val_accuracy: 0.6296\n",
      "Epoch 37/100\n",
      "2/2 [==============================] - 0s 36ms/step - loss: 0.2362 - accuracy: 0.9238 - val_loss: 1.3250 - val_accuracy: 0.6296\n",
      "Epoch 38/100\n",
      "2/2 [==============================] - 0s 37ms/step - loss: 0.2146 - accuracy: 0.9524 - val_loss: 1.2952 - val_accuracy: 0.6296\n",
      "Epoch 39/100\n",
      "2/2 [==============================] - 0s 37ms/step - loss: 0.1974 - accuracy: 0.9333 - val_loss: 1.2936 - val_accuracy: 0.5926\n",
      "Epoch 40/100\n",
      "2/2 [==============================] - 0s 38ms/step - loss: 0.2064 - accuracy: 0.9524 - val_loss: 1.2707 - val_accuracy: 0.5926\n",
      "Epoch 41/100\n",
      "2/2 [==============================] - 0s 37ms/step - loss: 0.1341 - accuracy: 0.9810 - val_loss: 1.2747 - val_accuracy: 0.5556\n",
      "Epoch 42/100\n",
      "2/2 [==============================] - 0s 34ms/step - loss: 0.1836 - accuracy: 0.9333 - val_loss: 1.3015 - val_accuracy: 0.5556\n",
      "Epoch 43/100\n",
      "2/2 [==============================] - 0s 34ms/step - loss: 0.1235 - accuracy: 0.9714 - val_loss: 1.3862 - val_accuracy: 0.6296\n",
      "Epoch 44/100\n",
      "2/2 [==============================] - 0s 34ms/step - loss: 0.1722 - accuracy: 0.9524 - val_loss: 1.3551 - val_accuracy: 0.5926\n",
      "Epoch 45/100\n",
      "2/2 [==============================] - 0s 41ms/step - loss: 0.1349 - accuracy: 0.9524 - val_loss: 1.3950 - val_accuracy: 0.5926\n",
      "Epoch 46/100\n",
      "2/2 [==============================] - 0s 38ms/step - loss: 0.1380 - accuracy: 0.9524 - val_loss: 1.3735 - val_accuracy: 0.5926\n",
      "Epoch 47/100\n",
      "2/2 [==============================] - 0s 43ms/step - loss: 0.1432 - accuracy: 0.9619 - val_loss: 1.3463 - val_accuracy: 0.5926\n",
      "Epoch 48/100\n",
      "2/2 [==============================] - 0s 40ms/step - loss: 0.1070 - accuracy: 0.9714 - val_loss: 1.3596 - val_accuracy: 0.5926\n",
      "Epoch 49/100\n",
      "2/2 [==============================] - 0s 38ms/step - loss: 0.0834 - accuracy: 0.9905 - val_loss: 1.3444 - val_accuracy: 0.5926\n",
      "Epoch 50/100\n",
      "2/2 [==============================] - 0s 37ms/step - loss: 0.0710 - accuracy: 0.9714 - val_loss: 1.2300 - val_accuracy: 0.6296\n",
      "Epoch 51/100\n",
      "2/2 [==============================] - 0s 43ms/step - loss: 0.1061 - accuracy: 0.9619 - val_loss: 1.5930 - val_accuracy: 0.5556\n",
      "Epoch 52/100\n",
      "2/2 [==============================] - 0s 39ms/step - loss: 0.1222 - accuracy: 0.9333 - val_loss: 1.2252 - val_accuracy: 0.6296\n",
      "Epoch 53/100\n",
      "2/2 [==============================] - 0s 34ms/step - loss: 0.0578 - accuracy: 0.9905 - val_loss: 1.2908 - val_accuracy: 0.7037\n",
      "Epoch 54/100\n",
      "2/2 [==============================] - 0s 31ms/step - loss: 0.1759 - accuracy: 0.9524 - val_loss: 1.4284 - val_accuracy: 0.6296\n",
      "Epoch 55/100\n",
      "2/2 [==============================] - 0s 34ms/step - loss: 0.1055 - accuracy: 0.9810 - val_loss: 1.8071 - val_accuracy: 0.6296\n",
      "Epoch 56/100\n",
      "2/2 [==============================] - 0s 32ms/step - loss: 0.1803 - accuracy: 0.9524 - val_loss: 1.4849 - val_accuracy: 0.6296\n",
      "Epoch 57/100\n",
      "2/2 [==============================] - 0s 32ms/step - loss: 0.0565 - accuracy: 0.9905 - val_loss: 1.4288 - val_accuracy: 0.5926\n",
      "Epoch 58/100\n",
      "2/2 [==============================] - 0s 32ms/step - loss: 0.1392 - accuracy: 0.9714 - val_loss: 1.5217 - val_accuracy: 0.5556\n",
      "Epoch 59/100\n"
     ]
    },
    {
     "name": "stdout",
     "output_type": "stream",
     "text": [
      "2/2 [==============================] - 0s 30ms/step - loss: 0.0449 - accuracy: 1.0000 - val_loss: 1.6188 - val_accuracy: 0.5926\n",
      "Epoch 60/100\n",
      "2/2 [==============================] - 0s 31ms/step - loss: 0.0662 - accuracy: 0.9810 - val_loss: 1.6844 - val_accuracy: 0.5185\n",
      "Epoch 61/100\n",
      "2/2 [==============================] - 0s 31ms/step - loss: 0.0694 - accuracy: 0.9810 - val_loss: 1.4812 - val_accuracy: 0.5926\n",
      "Epoch 62/100\n",
      "2/2 [==============================] - 0s 32ms/step - loss: 0.0401 - accuracy: 1.0000 - val_loss: 1.4256 - val_accuracy: 0.6296\n",
      "Epoch 63/100\n",
      "2/2 [==============================] - 0s 30ms/step - loss: 0.0451 - accuracy: 0.9905 - val_loss: 1.2886 - val_accuracy: 0.6296\n",
      "Epoch 64/100\n",
      "2/2 [==============================] - 0s 32ms/step - loss: 0.0414 - accuracy: 0.9905 - val_loss: 1.2211 - val_accuracy: 0.6296\n",
      "Epoch 65/100\n",
      "2/2 [==============================] - 0s 30ms/step - loss: 0.0305 - accuracy: 1.0000 - val_loss: 1.2733 - val_accuracy: 0.5926\n",
      "Epoch 66/100\n",
      "2/2 [==============================] - 0s 38ms/step - loss: 0.0266 - accuracy: 1.0000 - val_loss: 1.3577 - val_accuracy: 0.6667\n",
      "Epoch 67/100\n",
      "2/2 [==============================] - 0s 37ms/step - loss: 0.0390 - accuracy: 1.0000 - val_loss: 1.4807 - val_accuracy: 0.6296\n",
      "Epoch 68/100\n",
      "2/2 [==============================] - 0s 35ms/step - loss: 0.0273 - accuracy: 1.0000 - val_loss: 1.5622 - val_accuracy: 0.6296\n",
      "Epoch 69/100\n",
      "2/2 [==============================] - 0s 39ms/step - loss: 0.0394 - accuracy: 0.9905 - val_loss: 1.5686 - val_accuracy: 0.5926\n",
      "Epoch 70/100\n",
      "2/2 [==============================] - 0s 42ms/step - loss: 0.0247 - accuracy: 1.0000 - val_loss: 1.4348 - val_accuracy: 0.6296\n",
      "Epoch 71/100\n",
      "2/2 [==============================] - 0s 40ms/step - loss: 0.0257 - accuracy: 1.0000 - val_loss: 1.3615 - val_accuracy: 0.7037\n",
      "Epoch 72/100\n",
      "2/2 [==============================] - 0s 37ms/step - loss: 0.0189 - accuracy: 1.0000 - val_loss: 1.3663 - val_accuracy: 0.7037\n",
      "Epoch 73/100\n",
      "2/2 [==============================] - 0s 37ms/step - loss: 0.0178 - accuracy: 1.0000 - val_loss: 1.3936 - val_accuracy: 0.7037\n",
      "Epoch 74/100\n",
      "2/2 [==============================] - 0s 35ms/step - loss: 0.0284 - accuracy: 1.0000 - val_loss: 1.4554 - val_accuracy: 0.7037\n",
      "Epoch 75/100\n",
      "2/2 [==============================] - 0s 31ms/step - loss: 0.0322 - accuracy: 0.9905 - val_loss: 1.7578 - val_accuracy: 0.5926\n",
      "Epoch 76/100\n",
      "2/2 [==============================] - 0s 30ms/step - loss: 0.0193 - accuracy: 1.0000 - val_loss: 2.1131 - val_accuracy: 0.5556\n",
      "Epoch 77/100\n",
      "2/2 [==============================] - 0s 31ms/step - loss: 0.0254 - accuracy: 1.0000 - val_loss: 2.0724 - val_accuracy: 0.5556\n",
      "Epoch 78/100\n",
      "2/2 [==============================] - 0s 41ms/step - loss: 0.0319 - accuracy: 0.9905 - val_loss: 1.8902 - val_accuracy: 0.6296\n",
      "Epoch 79/100\n",
      "2/2 [==============================] - 0s 37ms/step - loss: 0.0146 - accuracy: 1.0000 - val_loss: 1.7866 - val_accuracy: 0.5556\n",
      "Epoch 80/100\n",
      "2/2 [==============================] - 0s 36ms/step - loss: 0.0281 - accuracy: 0.9905 - val_loss: 1.8390 - val_accuracy: 0.5556\n",
      "Epoch 81/100\n",
      "2/2 [==============================] - 0s 39ms/step - loss: 0.0220 - accuracy: 0.9905 - val_loss: 2.2206 - val_accuracy: 0.5556\n",
      "Epoch 82/100\n",
      "2/2 [==============================] - 0s 38ms/step - loss: 0.0414 - accuracy: 0.9905 - val_loss: 2.3157 - val_accuracy: 0.5556\n",
      "Epoch 83/100\n",
      "2/2 [==============================] - 0s 39ms/step - loss: 0.0529 - accuracy: 0.9714 - val_loss: 1.8181 - val_accuracy: 0.5926\n",
      "Epoch 84/100\n",
      "2/2 [==============================] - 0s 38ms/step - loss: 0.0257 - accuracy: 1.0000 - val_loss: 1.8535 - val_accuracy: 0.5926\n",
      "Epoch 85/100\n",
      "2/2 [==============================] - 0s 37ms/step - loss: 0.0761 - accuracy: 0.9714 - val_loss: 1.7981 - val_accuracy: 0.6296\n",
      "Epoch 86/100\n",
      "2/2 [==============================] - 0s 36ms/step - loss: 0.0176 - accuracy: 1.0000 - val_loss: 1.7383 - val_accuracy: 0.6296\n",
      "Epoch 87/100\n",
      "2/2 [==============================] - 0s 34ms/step - loss: 0.0291 - accuracy: 1.0000 - val_loss: 1.8404 - val_accuracy: 0.5556\n",
      "Epoch 88/100\n",
      "2/2 [==============================] - 0s 34ms/step - loss: 0.0666 - accuracy: 0.9810 - val_loss: 1.7392 - val_accuracy: 0.6667\n",
      "Epoch 89/100\n",
      "2/2 [==============================] - 0s 31ms/step - loss: 0.0159 - accuracy: 1.0000 - val_loss: 1.5395 - val_accuracy: 0.6667\n",
      "Epoch 90/100\n",
      "2/2 [==============================] - 0s 31ms/step - loss: 0.0489 - accuracy: 0.9810 - val_loss: 1.4829 - val_accuracy: 0.6667\n",
      "Epoch 91/100\n",
      "2/2 [==============================] - 0s 34ms/step - loss: 0.0101 - accuracy: 1.0000 - val_loss: 1.6291 - val_accuracy: 0.6296\n",
      "Epoch 92/100\n",
      "2/2 [==============================] - 0s 36ms/step - loss: 0.0151 - accuracy: 1.0000 - val_loss: 1.8016 - val_accuracy: 0.5556\n",
      "Epoch 93/100\n",
      "2/2 [==============================] - 0s 35ms/step - loss: 0.0170 - accuracy: 1.0000 - val_loss: 1.9974 - val_accuracy: 0.5556\n",
      "Epoch 94/100\n",
      "2/2 [==============================] - 0s 35ms/step - loss: 0.0095 - accuracy: 1.0000 - val_loss: 2.2621 - val_accuracy: 0.5556\n",
      "Epoch 95/100\n",
      "2/2 [==============================] - 0s 36ms/step - loss: 0.0197 - accuracy: 0.9905 - val_loss: 2.2634 - val_accuracy: 0.5556\n",
      "Epoch 96/100\n",
      "2/2 [==============================] - 0s 38ms/step - loss: 0.0149 - accuracy: 1.0000 - val_loss: 2.0625 - val_accuracy: 0.5556\n",
      "Epoch 97/100\n",
      "2/2 [==============================] - 0s 34ms/step - loss: 0.0175 - accuracy: 1.0000 - val_loss: 1.9069 - val_accuracy: 0.6296\n",
      "Epoch 98/100\n",
      "2/2 [==============================] - 0s 37ms/step - loss: 0.0239 - accuracy: 0.9905 - val_loss: 1.6980 - val_accuracy: 0.6667\n",
      "Epoch 99/100\n",
      "2/2 [==============================] - 0s 36ms/step - loss: 0.0144 - accuracy: 1.0000 - val_loss: 1.5309 - val_accuracy: 0.6667\n",
      "Epoch 100/100\n",
      "2/2 [==============================] - 0s 36ms/step - loss: 0.0219 - accuracy: 1.0000 - val_loss: 1.4893 - val_accuracy: 0.7037\n"
     ]
    }
   ],
   "source": [
    "from keras.callbacks import EarlyStopping\n",
    "from keras.callbacks import ModelCheckpoint\n",
    "\n",
    "checkpoint = ModelCheckpoint(\"best_model.h5\", monitor='val_loss', verbose=True, save_best_only=True) #to restore the best model\n",
    "# among the given models\n",
    "earlystop = EarlyStopping(monitor = 'val_acc', patience = 10)\n",
    "\n",
    "hist = model.fit(embeddings_matrix_train, Y_train, epochs = 100, batch_size=64, shuffle=True, validation_split=0.2)"
   ]
  },
  {
   "cell_type": "code",
   "execution_count": 26,
   "metadata": {},
   "outputs": [],
   "source": [
    "#model.load_weights(\"best_model.h5\")"
   ]
  },
  {
   "cell_type": "code",
   "execution_count": 27,
   "metadata": {},
   "outputs": [
    {
     "name": "stdout",
     "output_type": "stream",
     "text": [
      "2/2 [==============================] - 0s 5ms/step - loss: 0.8215 - accuracy: 0.8036\n"
     ]
    },
    {
     "data": {
      "text/plain": [
       "[0.8215122222900391, 0.8035714030265808]"
      ]
     },
     "execution_count": 27,
     "metadata": {},
     "output_type": "execute_result"
    }
   ],
   "source": [
    "model.evaluate(embeddings_matrix_test, Y_test)"
   ]
  },
  {
   "cell_type": "code",
   "execution_count": 28,
   "metadata": {},
   "outputs": [
    {
     "name": "stdout",
     "output_type": "stream",
     "text": [
      "2/2 [==============================] - 1s 5ms/step\n"
     ]
    }
   ],
   "source": [
    "pred = model.predict(embeddings_matrix_test)\n",
    "classes = np.argmax(pred, axis=1)"
   ]
  },
  {
   "cell_type": "code",
   "execution_count": 29,
   "metadata": {},
   "outputs": [
    {
     "name": "stdout",
     "output_type": "stream",
     "text": [
      "[4 3 2 0 2 2 3 2 4 2 1 2 0 3 1 3 2 2 3 4 3 3 4 2 3 3 2 0 1 2 0 1 3 2 0 1 2\n",
      " 4 4 2 1 0 0 1 2 2 3 2 3 3 3 0 3 2 2 4]\n"
     ]
    }
   ],
   "source": [
    "print(classes)"
   ]
  },
  {
   "cell_type": "code",
   "execution_count": 30,
   "metadata": {},
   "outputs": [
    {
     "name": "stdout",
     "output_type": "stream",
     "text": [
      "I want to eat\n",
      "🍴\n",
      "🍴\n",
      "he did not answer\n",
      "😞\n",
      "😞\n",
      "he got a very nice raise\n",
      "😃\n",
      "😃\n",
      "she got me a nice present\n",
      "😃\n",
      "❤️\n",
      "ha ha ha it was so funny\n",
      "😃\n",
      "😃\n",
      "he is a good friend\n",
      "😃\n",
      "😃\n",
      "I am upset\n",
      "😞\n",
      "😞\n",
      "We had such a lovely dinner tonight\n",
      "😃\n",
      "😃\n",
      "where is the food\n",
      "🍴\n",
      "🍴\n",
      "Stop making this joke ha ha ha\n",
      "😃\n",
      "😃\n",
      "where is the ball\n",
      "⚾\n",
      "⚾\n",
      "work is hard\n",
      "😞\n",
      "😃\n",
      "This girl is messing with me\n",
      "😞\n",
      "❤️\n",
      "are you serious\n",
      "😞\n",
      "😞\n",
      "Let us go play baseball\n",
      "⚾\n",
      "⚾\n",
      "This stupid grader is not working\n",
      "😞\n",
      "😞\n",
      "work is horrible\n",
      "😞\n",
      "😃\n",
      "Congratulation for having a baby\n",
      "😃\n",
      "😃\n",
      "stop pissing me off\n",
      "😞\n",
      "😞\n",
      "any suggestions for dinner\n",
      "🍴\n",
      "🍴\n",
      "I love taking breaks\n",
      "❤️\n",
      "😞\n",
      "you brighten my day\n",
      "😃\n",
      "😞\n",
      "I boiled rice\n",
      "🍴\n",
      "🍴\n",
      "she is a bully\n",
      "😞\n",
      "😃\n",
      "Why are you feeling bad\n",
      "😞\n",
      "😞\n",
      "I am upset\n",
      "😞\n",
      "😞\n",
      "give me the ball\n",
      "⚾\n",
      "😃\n",
      "My grandmother is the love of my life\n",
      "❤️\n",
      "❤️\n",
      "enjoy your game\n",
      "⚾\n",
      "⚾\n",
      "valentine day is near\n",
      "😃\n",
      "😃\n"
     ]
    }
   ],
   "source": [
    "for i in range(30):\n",
    "    print(' '.join(X_test[i]))\n",
    "    print(emoji.emojize(emoji_dictionary[str(np.argmax(Y_test[i]))]))\n",
    "    print(emoji.emojize(emoji_dictionary[str(classes[i])]))"
   ]
  },
  {
   "cell_type": "code",
   "execution_count": 33,
   "metadata": {},
   "outputs": [],
   "source": [
    "#Doing the below processing for flask integration of the model"
   ]
  },
  {
   "cell_type": "code",
   "execution_count": 58,
   "metadata": {},
   "outputs": [],
   "source": [
    "with open(\"model.json\" , \"w\") as file: #converting model to json \n",
    "    file.write(model.to_json())\n",
    "model.save_weights(\"best_model.h5\")    "
   ]
  },
  {
   "cell_type": "code",
   "execution_count": 59,
   "metadata": {},
   "outputs": [],
   "source": [
    "from keras.models import model_from_json\n"
   ]
  },
  {
   "cell_type": "code",
   "execution_count": 60,
   "metadata": {},
   "outputs": [],
   "source": [
    "with open(\"model.json\", \"r\") as file:\n",
    "    model = model_from_json(file.read())\n",
    "model.load_weights(\"best_model.h5\")    "
   ]
  },
  {
   "cell_type": "code",
   "execution_count": 61,
   "metadata": {},
   "outputs": [],
   "source": [
    "test_str = \"Hello how are you\"\n",
    "X = pd.Series([test_str])"
   ]
  },
  {
   "cell_type": "code",
   "execution_count": 62,
   "metadata": {},
   "outputs": [],
   "source": [
    "emb_x = embedding_output(X)"
   ]
  },
  {
   "cell_type": "code",
   "execution_count": 63,
   "metadata": {},
   "outputs": [
    {
     "name": "stdout",
     "output_type": "stream",
     "text": [
      "1/1 [==============================] - 1s 761ms/step\n"
     ]
    }
   ],
   "source": [
    "pred = model.predict(emb_x)\n",
    "c = np.argmax(pred, axis=1)"
   ]
  },
  {
   "cell_type": "code",
   "execution_count": 67,
   "metadata": {},
   "outputs": [
    {
     "name": "stdout",
     "output_type": "stream",
     "text": [
      "[3]\n"
     ]
    }
   ],
   "source": [
    "print(c)"
   ]
  },
  {
   "cell_type": "code",
   "execution_count": 66,
   "metadata": {},
   "outputs": [
    {
     "name": "stdout",
     "output_type": "stream",
     "text": [
      "Hello how are you\n",
      "😞\n"
     ]
    }
   ],
   "source": [
    "print(' '.join(X[0]))\n",
    "print(emoji.emojize(emoji_dictionary[str(c[0])]))"
   ]
  },
  {
   "cell_type": "code",
   "execution_count": null,
   "metadata": {},
   "outputs": [],
   "source": []
  },
  {
   "cell_type": "code",
   "execution_count": null,
   "metadata": {},
   "outputs": [],
   "source": []
  }
 ],
 "metadata": {
  "kernelspec": {
   "display_name": "Python 3 (ipykernel)",
   "language": "python",
   "name": "python3"
  },
  "language_info": {
   "codemirror_mode": {
    "name": "ipython",
    "version": 3
   },
   "file_extension": ".py",
   "mimetype": "text/x-python",
   "name": "python",
   "nbconvert_exporter": "python",
   "pygments_lexer": "ipython3",
   "version": "3.9.12"
  }
 },
 "nbformat": 4,
 "nbformat_minor": 4
}
